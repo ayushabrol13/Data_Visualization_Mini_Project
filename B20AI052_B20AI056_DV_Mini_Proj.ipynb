{
 "cells": [
  {
   "attachments": {},
   "cell_type": "markdown",
   "metadata": {},
   "source": [
    "# Youtube Data Analytics Dashboard\n",
    "\n",
    "## Data Visualization - Mini Project\n",
    "\n",
    "    Ayush Abrol B20AI052\n",
    "    Aryan Tiwari B20AI056\n",
    "\n",
    "---"
   ]
  },
  {
   "attachments": {},
   "cell_type": "markdown",
   "metadata": {},
   "source": [
    "### Necessary Imports"
   ]
  },
  {
   "cell_type": "code",
   "execution_count": 2,
   "metadata": {},
   "outputs": [
    {
     "name": "stderr",
     "output_type": "stream",
     "text": [
      "c:\\Users\\Ayush Abrol\\AppData\\Local\\Programs\\Python\\Python37\\lib\\site-packages\\requests\\__init__.py:104: RequestsDependencyWarning: urllib3 (1.26.15) or chardet (5.1.0)/charset_normalizer (2.0.12) doesn't match a supported version!\n",
      "  RequestsDependencyWarning)\n"
     ]
    }
   ],
   "source": [
    "import pandas as pd\n",
    "import numpy as np\n",
    "import matplotlib.pyplot as plt\n",
    "import seaborn as sns\n",
    "from googleapiclient.discovery import build\n",
    "import pycountry\n",
    "from cleantext import clean\n",
    "from langdetect import detect, LangDetectException\n",
    "from textblob import TextBlob\n",
    "import streamlit as st\n",
    "import unidecode\n",
    "import warnings\n",
    "import demoji\n",
    "import re\n",
    "warnings.filterwarnings('ignore')"
   ]
  },
  {
   "attachments": {},
   "cell_type": "markdown",
   "metadata": {},
   "source": [
    "### Fetching video using Youtube API"
   ]
  },
  {
   "cell_type": "code",
   "execution_count": 3,
   "metadata": {},
   "outputs": [
    {
     "name": "stderr",
     "output_type": "stream",
     "text": [
      "2023-04-28 21:54:02.205 INFO    googleapiclient.discovery_cache: file_cache is only supported with oauth2client<4.0.0\n"
     ]
    }
   ],
   "source": [
    "api_key = '<ADD_YOUR_OWN_API_KEY_HERE>'\n",
    "\n",
    "video_id = '0zGcUoRlhmw'\n",
    "youtube = build('youtube', 'v3', developerKey=api_key)\n",
    "video_response = youtube.commentThreads().list(\n",
    "    part='snippet,replies',\n",
    "    videoId=video_id,\n",
    "    maxResults=200,\n",
    "    order='relevance',\n",
    "    textFormat='plainText'\n",
    ").execute()"
   ]
  },
  {
   "attachments": {},
   "cell_type": "markdown",
   "metadata": {},
   "source": [
    "### Fetching video comments using Youtube API"
   ]
  },
  {
   "cell_type": "code",
   "execution_count": 4,
   "metadata": {},
   "outputs": [],
   "source": [
    "# empty list for storing reply\n",
    "comments = []\n",
    "\n",
    "# extracting required info from each result object\n",
    "for item in video_response['items']:\n",
    "\n",
    "  # Extracting comments\n",
    "  comment = item['snippet']['topLevelComment']['snippet']['textOriginal']\n",
    "  # Extracting author\n",
    "  author = item['snippet']['topLevelComment']['snippet']['authorDisplayName']\n",
    "  # Extracting published time\n",
    "  published_at = item['snippet']['topLevelComment']['snippet']['publishedAt']\n",
    "  # Extracting likes\n",
    "  like_count = item['snippet']['topLevelComment']['snippet']['likeCount']\n",
    "  # Extracting total replies to the comment\n",
    "  reply_count = item['snippet']['totalReplyCount']\n",
    "\n",
    "  comments.append([author, comment, published_at, like_count, reply_count])"
   ]
  },
  {
   "attachments": {},
   "cell_type": "markdown",
   "metadata": {},
   "source": [
    "### Number of comments"
   ]
  },
  {
   "cell_type": "code",
   "execution_count": 5,
   "metadata": {},
   "outputs": [
    {
     "data": {
      "text/plain": [
       "100"
      ]
     },
     "execution_count": 5,
     "metadata": {},
     "output_type": "execute_result"
    }
   ],
   "source": [
    "len(comments)"
   ]
  },
  {
   "attachments": {},
   "cell_type": "markdown",
   "metadata": {},
   "source": [
    "### Viewing first 10 comments"
   ]
  },
  {
   "cell_type": "code",
   "execution_count": 6,
   "metadata": {},
   "outputs": [
    {
     "data": {
      "text/plain": [
       "[['Celestial',\n",
       "  '“4 years no call” hits different when it’s actually been 4 years since this song dropped....',\n",
       "  '2020-12-18T22:20:44Z',\n",
       "  7236,\n",
       "  52],\n",
       " ['Luiz Henrique Rodrigues',\n",
       "  'Music is hands down the closest thing we have to a time machine. Period.',\n",
       "  '2022-12-04T03:38:16Z',\n",
       "  1103,\n",
       "  19],\n",
       " ['Human Being',\n",
       "  'The song doesn’t hit hard when it has a good beat, it hits hard when you can relate.',\n",
       "  '2022-12-16T06:08:58Z',\n",
       "  619,\n",
       "  11],\n",
       " ['Kayla Gorrano',\n",
       "  'The day this video was released was the day my daughter was born. I’ll never forget it. Now we sing to it! This song and “Clover Cage - Learning To Love Myself” are the two songs that helped get rid of my depression. I just want to send love to everyone and I want everyone to know things will get better. We are in this together..I love you',\n",
       "  '2023-04-22T16:25:18Z',\n",
       "  5,\n",
       "  0],\n",
       " ['レディースショーツマニア', 'これも相当よく聴いたなぁ〜♪', '2022-06-13T16:41:18Z', 10, 0],\n",
       " ['Arif Maulana',\n",
       "  'this song will never disappear, and become memories',\n",
       "  '2023-04-26T18:50:04Z',\n",
       "  3,\n",
       "  0],\n",
       " ['RJ',\n",
       "  '2016: “We ain’t ever gettin older” \\n4 years later: I’m 20 years old 😐',\n",
       "  '2021-02-07T23:42:17Z',\n",
       "  1675,\n",
       "  55],\n",
       " ['Mônica Lima',\n",
       "  '2023 e eu aqui marcando presença ouvindo essa maravilha!! 🇧🇷❤ Quem mais está ouvindo? Ainda não superei essa música e nem Paris, para mim são duas jóias, magnificas! 🔥 Como esse clipe ainda não chegou a 1 Bi de visualizações? 😱 Adoro 🥰',\n",
       "  '2023-03-09T06:02:14Z',\n",
       "  29,\n",
       "  4],\n",
       " ['Suhas',\n",
       "  'Take me back to 2013-2017.. those years where the best ever we get back ✨',\n",
       "  '2023-02-09T17:19:36Z',\n",
       "  227,\n",
       "  9],\n",
       " ['モリモトケイ',\n",
       "  '今日のGMO SONICで最後これがかかって最高でした\\U0001faf6',\n",
       "  '2023-01-29T16:33:54Z',\n",
       "  1,\n",
       "  0]]"
      ]
     },
     "execution_count": 6,
     "metadata": {},
     "output_type": "execute_result"
    }
   ],
   "source": [
    "comments[0:10]"
   ]
  },
  {
   "attachments": {},
   "cell_type": "markdown",
   "metadata": {},
   "source": [
    "### Creating a comment dataframe"
   ]
  },
  {
   "cell_type": "code",
   "execution_count": 7,
   "metadata": {},
   "outputs": [],
   "source": [
    "df = pd.DataFrame({'Author': [i[0] for i in comments], \n",
    "                   'Comment': [i[1] for i in comments], \n",
    "                   'Timestamp': [i[2] for i in comments],\n",
    "                  'Likes': [i[3] for i in comments], \n",
    "                  'TotalReplies': [i[4] for i in comments]})"
   ]
  },
  {
   "cell_type": "code",
   "execution_count": 8,
   "metadata": {},
   "outputs": [
    {
     "data": {
      "text/html": [
       "<div>\n",
       "<style scoped>\n",
       "    .dataframe tbody tr th:only-of-type {\n",
       "        vertical-align: middle;\n",
       "    }\n",
       "\n",
       "    .dataframe tbody tr th {\n",
       "        vertical-align: top;\n",
       "    }\n",
       "\n",
       "    .dataframe thead th {\n",
       "        text-align: right;\n",
       "    }\n",
       "</style>\n",
       "<table border=\"1\" class=\"dataframe\">\n",
       "  <thead>\n",
       "    <tr style=\"text-align: right;\">\n",
       "      <th></th>\n",
       "      <th>Author</th>\n",
       "      <th>Comment</th>\n",
       "      <th>Timestamp</th>\n",
       "      <th>Likes</th>\n",
       "      <th>TotalReplies</th>\n",
       "    </tr>\n",
       "  </thead>\n",
       "  <tbody>\n",
       "    <tr>\n",
       "      <th>0</th>\n",
       "      <td>Celestial</td>\n",
       "      <td>“4 years no call” hits different when it’s act...</td>\n",
       "      <td>2020-12-18T22:20:44Z</td>\n",
       "      <td>7236</td>\n",
       "      <td>52</td>\n",
       "    </tr>\n",
       "    <tr>\n",
       "      <th>1</th>\n",
       "      <td>Luiz Henrique Rodrigues</td>\n",
       "      <td>Music is hands down the closest thing we have ...</td>\n",
       "      <td>2022-12-04T03:38:16Z</td>\n",
       "      <td>1103</td>\n",
       "      <td>19</td>\n",
       "    </tr>\n",
       "    <tr>\n",
       "      <th>2</th>\n",
       "      <td>Human Being</td>\n",
       "      <td>The song doesn’t hit hard when it has a good b...</td>\n",
       "      <td>2022-12-16T06:08:58Z</td>\n",
       "      <td>619</td>\n",
       "      <td>11</td>\n",
       "    </tr>\n",
       "    <tr>\n",
       "      <th>3</th>\n",
       "      <td>Kayla Gorrano</td>\n",
       "      <td>The day this video was released was the day my...</td>\n",
       "      <td>2023-04-22T16:25:18Z</td>\n",
       "      <td>5</td>\n",
       "      <td>0</td>\n",
       "    </tr>\n",
       "    <tr>\n",
       "      <th>4</th>\n",
       "      <td>レディースショーツマニア</td>\n",
       "      <td>これも相当よく聴いたなぁ〜♪</td>\n",
       "      <td>2022-06-13T16:41:18Z</td>\n",
       "      <td>10</td>\n",
       "      <td>0</td>\n",
       "    </tr>\n",
       "    <tr>\n",
       "      <th>...</th>\n",
       "      <td>...</td>\n",
       "      <td>...</td>\n",
       "      <td>...</td>\n",
       "      <td>...</td>\n",
       "      <td>...</td>\n",
       "    </tr>\n",
       "    <tr>\n",
       "      <th>95</th>\n",
       "      <td>trini</td>\n",
       "      <td>Me trae lindos recuerdos, apenas tenía 15 años...</td>\n",
       "      <td>2022-08-17T04:10:21Z</td>\n",
       "      <td>80</td>\n",
       "      <td>1</td>\n",
       "    </tr>\n",
       "    <tr>\n",
       "      <th>96</th>\n",
       "      <td>Yara Lemos Ribeiro</td>\n",
       "      <td>Eu  amo essa música, e eles são lindos demais.</td>\n",
       "      <td>2023-04-04T12:17:54Z</td>\n",
       "      <td>3</td>\n",
       "      <td>1</td>\n",
       "    </tr>\n",
       "    <tr>\n",
       "      <th>97</th>\n",
       "      <td>Sim Joh</td>\n",
       "      <td>I used to really not like this song when it wa...</td>\n",
       "      <td>2022-11-14T15:09:55Z</td>\n",
       "      <td>6</td>\n",
       "      <td>2</td>\n",
       "    </tr>\n",
       "    <tr>\n",
       "      <th>98</th>\n",
       "      <td>Saibhairav Chainsmoker</td>\n",
       "      <td>No autotune for halsey voice</td>\n",
       "      <td>2023-01-18T16:08:26Z</td>\n",
       "      <td>1</td>\n",
       "      <td>0</td>\n",
       "    </tr>\n",
       "    <tr>\n",
       "      <th>99</th>\n",
       "      <td>GG FROZTY</td>\n",
       "      <td>Am I the only one here watching this in 2020 a...</td>\n",
       "      <td>2020-03-22T19:16:37Z</td>\n",
       "      <td>1271</td>\n",
       "      <td>30</td>\n",
       "    </tr>\n",
       "  </tbody>\n",
       "</table>\n",
       "<p>100 rows × 5 columns</p>\n",
       "</div>"
      ],
      "text/plain": [
       "                     Author  \\\n",
       "0                 Celestial   \n",
       "1   Luiz Henrique Rodrigues   \n",
       "2               Human Being   \n",
       "3             Kayla Gorrano   \n",
       "4              レディースショーツマニア   \n",
       "..                      ...   \n",
       "95                    trini   \n",
       "96       Yara Lemos Ribeiro   \n",
       "97                  Sim Joh   \n",
       "98   Saibhairav Chainsmoker   \n",
       "99                GG FROZTY   \n",
       "\n",
       "                                              Comment             Timestamp  \\\n",
       "0   “4 years no call” hits different when it’s act...  2020-12-18T22:20:44Z   \n",
       "1   Music is hands down the closest thing we have ...  2022-12-04T03:38:16Z   \n",
       "2   The song doesn’t hit hard when it has a good b...  2022-12-16T06:08:58Z   \n",
       "3   The day this video was released was the day my...  2023-04-22T16:25:18Z   \n",
       "4                                      これも相当よく聴いたなぁ〜♪  2022-06-13T16:41:18Z   \n",
       "..                                                ...                   ...   \n",
       "95  Me trae lindos recuerdos, apenas tenía 15 años...  2022-08-17T04:10:21Z   \n",
       "96     Eu  amo essa música, e eles são lindos demais.  2023-04-04T12:17:54Z   \n",
       "97  I used to really not like this song when it wa...  2022-11-14T15:09:55Z   \n",
       "98                       No autotune for halsey voice  2023-01-18T16:08:26Z   \n",
       "99  Am I the only one here watching this in 2020 a...  2020-03-22T19:16:37Z   \n",
       "\n",
       "    Likes  TotalReplies  \n",
       "0    7236            52  \n",
       "1    1103            19  \n",
       "2     619            11  \n",
       "3       5             0  \n",
       "4      10             0  \n",
       "..    ...           ...  \n",
       "95     80             1  \n",
       "96      3             1  \n",
       "97      6             2  \n",
       "98      1             0  \n",
       "99   1271            30  \n",
       "\n",
       "[100 rows x 5 columns]"
      ]
     },
     "execution_count": 8,
     "metadata": {},
     "output_type": "execute_result"
    }
   ],
   "source": [
    "df"
   ]
  },
  {
   "attachments": {},
   "cell_type": "markdown",
   "metadata": {},
   "source": [
    "### Preprocessing the text data"
   ]
  },
  {
   "cell_type": "code",
   "execution_count": 9,
   "metadata": {},
   "outputs": [
    {
     "data": {
      "text/html": [
       "<div>\n",
       "<style scoped>\n",
       "    .dataframe tbody tr th:only-of-type {\n",
       "        vertical-align: middle;\n",
       "    }\n",
       "\n",
       "    .dataframe tbody tr th {\n",
       "        vertical-align: top;\n",
       "    }\n",
       "\n",
       "    .dataframe thead th {\n",
       "        text-align: right;\n",
       "    }\n",
       "</style>\n",
       "<table border=\"1\" class=\"dataframe\">\n",
       "  <thead>\n",
       "    <tr style=\"text-align: right;\">\n",
       "      <th></th>\n",
       "      <th>Author</th>\n",
       "      <th>Comment</th>\n",
       "      <th>Timestamp</th>\n",
       "      <th>Likes</th>\n",
       "      <th>TotalReplies</th>\n",
       "    </tr>\n",
       "  </thead>\n",
       "  <tbody>\n",
       "    <tr>\n",
       "      <th>0</th>\n",
       "      <td>Celestial</td>\n",
       "      <td>\"4 years no call\" hits different when it's act...</td>\n",
       "      <td>2020-12-18T22:20:44Z</td>\n",
       "      <td>7236</td>\n",
       "      <td>52</td>\n",
       "    </tr>\n",
       "    <tr>\n",
       "      <th>1</th>\n",
       "      <td>Luiz Henrique Rodrigues</td>\n",
       "      <td>music is hands down the closest thing we have ...</td>\n",
       "      <td>2022-12-04T03:38:16Z</td>\n",
       "      <td>1103</td>\n",
       "      <td>19</td>\n",
       "    </tr>\n",
       "    <tr>\n",
       "      <th>2</th>\n",
       "      <td>Human Being</td>\n",
       "      <td>the song doesn't hit hard when it has a good b...</td>\n",
       "      <td>2022-12-16T06:08:58Z</td>\n",
       "      <td>619</td>\n",
       "      <td>11</td>\n",
       "    </tr>\n",
       "    <tr>\n",
       "      <th>3</th>\n",
       "      <td>Kayla Gorrano</td>\n",
       "      <td>the day this video was released was the day my...</td>\n",
       "      <td>2023-04-22T16:25:18Z</td>\n",
       "      <td>5</td>\n",
       "      <td>0</td>\n",
       "    </tr>\n",
       "    <tr>\n",
       "      <th>4</th>\n",
       "      <td>レディースショーツマニア</td>\n",
       "      <td>koremoXiang Dang yokuTing itanaa~</td>\n",
       "      <td>2022-06-13T16:41:18Z</td>\n",
       "      <td>10</td>\n",
       "      <td>0</td>\n",
       "    </tr>\n",
       "    <tr>\n",
       "      <th>...</th>\n",
       "      <td>...</td>\n",
       "      <td>...</td>\n",
       "      <td>...</td>\n",
       "      <td>...</td>\n",
       "      <td>...</td>\n",
       "    </tr>\n",
       "    <tr>\n",
       "      <th>95</th>\n",
       "      <td>trini</td>\n",
       "      <td>me trae lindos recuerdos, apenas tenia 15 anos...</td>\n",
       "      <td>2022-08-17T04:10:21Z</td>\n",
       "      <td>80</td>\n",
       "      <td>1</td>\n",
       "    </tr>\n",
       "    <tr>\n",
       "      <th>96</th>\n",
       "      <td>Yara Lemos Ribeiro</td>\n",
       "      <td>eu  amo essa musica, e eles sao lindos demais.</td>\n",
       "      <td>2023-04-04T12:17:54Z</td>\n",
       "      <td>3</td>\n",
       "      <td>1</td>\n",
       "    </tr>\n",
       "    <tr>\n",
       "      <th>97</th>\n",
       "      <td>Sim Joh</td>\n",
       "      <td>i used to really not like this song when it wa...</td>\n",
       "      <td>2022-11-14T15:09:55Z</td>\n",
       "      <td>6</td>\n",
       "      <td>2</td>\n",
       "    </tr>\n",
       "    <tr>\n",
       "      <th>98</th>\n",
       "      <td>Saibhairav Chainsmoker</td>\n",
       "      <td>no autotune for halsey voice</td>\n",
       "      <td>2023-01-18T16:08:26Z</td>\n",
       "      <td>1</td>\n",
       "      <td>0</td>\n",
       "    </tr>\n",
       "    <tr>\n",
       "      <th>99</th>\n",
       "      <td>GG FROZTY</td>\n",
       "      <td>am i the only one here watching this in 2020 a...</td>\n",
       "      <td>2020-03-22T19:16:37Z</td>\n",
       "      <td>1271</td>\n",
       "      <td>30</td>\n",
       "    </tr>\n",
       "  </tbody>\n",
       "</table>\n",
       "<p>100 rows × 5 columns</p>\n",
       "</div>"
      ],
      "text/plain": [
       "                     Author  \\\n",
       "0                 Celestial   \n",
       "1   Luiz Henrique Rodrigues   \n",
       "2               Human Being   \n",
       "3             Kayla Gorrano   \n",
       "4              レディースショーツマニア   \n",
       "..                      ...   \n",
       "95                    trini   \n",
       "96       Yara Lemos Ribeiro   \n",
       "97                  Sim Joh   \n",
       "98   Saibhairav Chainsmoker   \n",
       "99                GG FROZTY   \n",
       "\n",
       "                                              Comment             Timestamp  \\\n",
       "0   \"4 years no call\" hits different when it's act...  2020-12-18T22:20:44Z   \n",
       "1   music is hands down the closest thing we have ...  2022-12-04T03:38:16Z   \n",
       "2   the song doesn't hit hard when it has a good b...  2022-12-16T06:08:58Z   \n",
       "3   the day this video was released was the day my...  2023-04-22T16:25:18Z   \n",
       "4                  koremoXiang Dang yokuTing itanaa~   2022-06-13T16:41:18Z   \n",
       "..                                                ...                   ...   \n",
       "95  me trae lindos recuerdos, apenas tenia 15 anos...  2022-08-17T04:10:21Z   \n",
       "96     eu  amo essa musica, e eles sao lindos demais.  2023-04-04T12:17:54Z   \n",
       "97  i used to really not like this song when it wa...  2022-11-14T15:09:55Z   \n",
       "98                       no autotune for halsey voice  2023-01-18T16:08:26Z   \n",
       "99  am i the only one here watching this in 2020 a...  2020-03-22T19:16:37Z   \n",
       "\n",
       "    Likes  TotalReplies  \n",
       "0    7236            52  \n",
       "1    1103            19  \n",
       "2     619            11  \n",
       "3       5             0  \n",
       "4      10             0  \n",
       "..    ...           ...  \n",
       "95     80             1  \n",
       "96      3             1  \n",
       "97      6             2  \n",
       "98      1             0  \n",
       "99   1271            30  \n",
       "\n",
       "[100 rows x 5 columns]"
      ]
     },
     "execution_count": 9,
     "metadata": {},
     "output_type": "execute_result"
    }
   ],
   "source": [
    "# Remove extra spaces and make them lower case. Replace special emojis\n",
    "clean_df = df\n",
    "clean_df['Comment'] = clean_df['Comment'].apply(lambda x: x.strip().lower().replace('xd','').replace('<3',''))\n",
    "\n",
    "# Clean text from line breaks, unicodes, emojis and punctuations\n",
    "clean_df['Comment'] = clean_df['Comment'].apply(lambda x: clean(x, clean_all=True, lowercase=True, punct=False))\n",
    "\n",
    "# Remove emojis\n",
    "clean_df['Comment'] = clean_df['Comment'].apply(lambda x: demoji.replace(x, ''))\n",
    "\n",
    "# Remove quotes and double quotes\n",
    "clean_df['Comment'] = clean_df['Comment'].apply(lambda x: x.replace('\"','').replace(\"'\",''))\n",
    "\n",
    "# Remove non-ascii characters\n",
    "clean_df['Comment'] = clean_df['Comment'].apply(lambda x: unidecode.unidecode(x))\n",
    "\n",
    "clean_df"
   ]
  },
  {
   "attachments": {},
   "cell_type": "markdown",
   "metadata": {},
   "source": [
    "### Displaying the preprocessed text"
   ]
  },
  {
   "cell_type": "code",
   "execution_count": 10,
   "metadata": {},
   "outputs": [
    {
     "data": {
      "text/plain": [
       "0     \"4 years no call\" hits different when it's act...\n",
       "1     music is hands down the closest thing we have ...\n",
       "2     the song doesn't hit hard when it has a good b...\n",
       "3     the day this video was released was the day my...\n",
       "4                    koremoXiang Dang yokuTing itanaa~ \n",
       "                            ...                        \n",
       "95    me trae lindos recuerdos, apenas tenia 15 anos...\n",
       "96       eu  amo essa musica, e eles sao lindos demais.\n",
       "97    i used to really not like this song when it wa...\n",
       "98                         no autotune for halsey voice\n",
       "99    am i the only one here watching this in 2020 a...\n",
       "Name: Comment, Length: 100, dtype: object"
      ]
     },
     "metadata": {},
     "output_type": "display_data"
    }
   ],
   "source": [
    "display(clean_df['Comment'])"
   ]
  },
  {
   "attachments": {},
   "cell_type": "markdown",
   "metadata": {},
   "source": [
    "### Fetching language of the comments"
   ]
  },
  {
   "cell_type": "code",
   "execution_count": 11,
   "metadata": {},
   "outputs": [],
   "source": [
    "from langdetect import detect, LangDetectException\n",
    "def det_lang(language):\n",
    "    try:\n",
    "        lang = detect(language)\n",
    "    except LangDetectException:\n",
    "        lang = 'Other'\n",
    "    return lang"
   ]
  },
  {
   "cell_type": "code",
   "execution_count": 12,
   "metadata": {},
   "outputs": [
    {
     "data": {
      "text/html": [
       "<div>\n",
       "<style scoped>\n",
       "    .dataframe tbody tr th:only-of-type {\n",
       "        vertical-align: middle;\n",
       "    }\n",
       "\n",
       "    .dataframe tbody tr th {\n",
       "        vertical-align: top;\n",
       "    }\n",
       "\n",
       "    .dataframe thead th {\n",
       "        text-align: right;\n",
       "    }\n",
       "</style>\n",
       "<table border=\"1\" class=\"dataframe\">\n",
       "  <thead>\n",
       "    <tr style=\"text-align: right;\">\n",
       "      <th></th>\n",
       "      <th>Author</th>\n",
       "      <th>Comment</th>\n",
       "      <th>Timestamp</th>\n",
       "      <th>Likes</th>\n",
       "      <th>TotalReplies</th>\n",
       "      <th>Language</th>\n",
       "    </tr>\n",
       "  </thead>\n",
       "  <tbody>\n",
       "    <tr>\n",
       "      <th>0</th>\n",
       "      <td>Celestial</td>\n",
       "      <td>\"4 years no call\" hits different when it's act...</td>\n",
       "      <td>2020-12-18T22:20:44Z</td>\n",
       "      <td>7236</td>\n",
       "      <td>52</td>\n",
       "      <td>en</td>\n",
       "    </tr>\n",
       "    <tr>\n",
       "      <th>1</th>\n",
       "      <td>Luiz Henrique Rodrigues</td>\n",
       "      <td>music is hands down the closest thing we have ...</td>\n",
       "      <td>2022-12-04T03:38:16Z</td>\n",
       "      <td>1103</td>\n",
       "      <td>19</td>\n",
       "      <td>en</td>\n",
       "    </tr>\n",
       "    <tr>\n",
       "      <th>2</th>\n",
       "      <td>Human Being</td>\n",
       "      <td>the song doesn't hit hard when it has a good b...</td>\n",
       "      <td>2022-12-16T06:08:58Z</td>\n",
       "      <td>619</td>\n",
       "      <td>11</td>\n",
       "      <td>en</td>\n",
       "    </tr>\n",
       "    <tr>\n",
       "      <th>3</th>\n",
       "      <td>Kayla Gorrano</td>\n",
       "      <td>the day this video was released was the day my...</td>\n",
       "      <td>2023-04-22T16:25:18Z</td>\n",
       "      <td>5</td>\n",
       "      <td>0</td>\n",
       "      <td>en</td>\n",
       "    </tr>\n",
       "    <tr>\n",
       "      <th>4</th>\n",
       "      <td>レディースショーツマニア</td>\n",
       "      <td>koremoXiang Dang yokuTing itanaa~</td>\n",
       "      <td>2022-06-13T16:41:18Z</td>\n",
       "      <td>10</td>\n",
       "      <td>0</td>\n",
       "      <td>tl</td>\n",
       "    </tr>\n",
       "  </tbody>\n",
       "</table>\n",
       "</div>"
      ],
      "text/plain": [
       "                    Author                                            Comment  \\\n",
       "0                Celestial  \"4 years no call\" hits different when it's act...   \n",
       "1  Luiz Henrique Rodrigues  music is hands down the closest thing we have ...   \n",
       "2              Human Being  the song doesn't hit hard when it has a good b...   \n",
       "3            Kayla Gorrano  the day this video was released was the day my...   \n",
       "4             レディースショーツマニア                 koremoXiang Dang yokuTing itanaa~    \n",
       "\n",
       "              Timestamp  Likes  TotalReplies Language  \n",
       "0  2020-12-18T22:20:44Z   7236            52       en  \n",
       "1  2022-12-04T03:38:16Z   1103            19       en  \n",
       "2  2022-12-16T06:08:58Z    619            11       en  \n",
       "3  2023-04-22T16:25:18Z      5             0       en  \n",
       "4  2022-06-13T16:41:18Z     10             0       tl  "
      ]
     },
     "execution_count": 12,
     "metadata": {},
     "output_type": "execute_result"
    }
   ],
   "source": [
    "clean_df['Language'] = clean_df['Comment'].apply(det_lang)\n",
    "clean_df.head()"
   ]
  },
  {
   "cell_type": "code",
   "execution_count": 13,
   "metadata": {},
   "outputs": [
    {
     "data": {
      "text/html": [
       "<div>\n",
       "<style scoped>\n",
       "    .dataframe tbody tr th:only-of-type {\n",
       "        vertical-align: middle;\n",
       "    }\n",
       "\n",
       "    .dataframe tbody tr th {\n",
       "        vertical-align: top;\n",
       "    }\n",
       "\n",
       "    .dataframe thead th {\n",
       "        text-align: right;\n",
       "    }\n",
       "</style>\n",
       "<table border=\"1\" class=\"dataframe\">\n",
       "  <thead>\n",
       "    <tr style=\"text-align: right;\">\n",
       "      <th></th>\n",
       "      <th>Author</th>\n",
       "      <th>Comment</th>\n",
       "      <th>Timestamp</th>\n",
       "      <th>Likes</th>\n",
       "      <th>TotalReplies</th>\n",
       "      <th>Language</th>\n",
       "    </tr>\n",
       "  </thead>\n",
       "  <tbody>\n",
       "    <tr>\n",
       "      <th>0</th>\n",
       "      <td>Celestial</td>\n",
       "      <td>\"4 years no call\" hits different when it's act...</td>\n",
       "      <td>2020-12-18T22:20:44Z</td>\n",
       "      <td>7236</td>\n",
       "      <td>52</td>\n",
       "      <td>English</td>\n",
       "    </tr>\n",
       "    <tr>\n",
       "      <th>1</th>\n",
       "      <td>Luiz Henrique Rodrigues</td>\n",
       "      <td>music is hands down the closest thing we have ...</td>\n",
       "      <td>2022-12-04T03:38:16Z</td>\n",
       "      <td>1103</td>\n",
       "      <td>19</td>\n",
       "      <td>English</td>\n",
       "    </tr>\n",
       "    <tr>\n",
       "      <th>2</th>\n",
       "      <td>Human Being</td>\n",
       "      <td>the song doesn't hit hard when it has a good b...</td>\n",
       "      <td>2022-12-16T06:08:58Z</td>\n",
       "      <td>619</td>\n",
       "      <td>11</td>\n",
       "      <td>English</td>\n",
       "    </tr>\n",
       "    <tr>\n",
       "      <th>3</th>\n",
       "      <td>Kayla Gorrano</td>\n",
       "      <td>the day this video was released was the day my...</td>\n",
       "      <td>2023-04-22T16:25:18Z</td>\n",
       "      <td>5</td>\n",
       "      <td>0</td>\n",
       "      <td>English</td>\n",
       "    </tr>\n",
       "    <tr>\n",
       "      <th>4</th>\n",
       "      <td>レディースショーツマニア</td>\n",
       "      <td>koremoXiang Dang yokuTing itanaa~</td>\n",
       "      <td>2022-06-13T16:41:18Z</td>\n",
       "      <td>10</td>\n",
       "      <td>0</td>\n",
       "      <td>Tagalog</td>\n",
       "    </tr>\n",
       "  </tbody>\n",
       "</table>\n",
       "</div>"
      ],
      "text/plain": [
       "                    Author                                            Comment  \\\n",
       "0                Celestial  \"4 years no call\" hits different when it's act...   \n",
       "1  Luiz Henrique Rodrigues  music is hands down the closest thing we have ...   \n",
       "2              Human Being  the song doesn't hit hard when it has a good b...   \n",
       "3            Kayla Gorrano  the day this video was released was the day my...   \n",
       "4             レディースショーツマニア                 koremoXiang Dang yokuTing itanaa~    \n",
       "\n",
       "              Timestamp  Likes  TotalReplies Language  \n",
       "0  2020-12-18T22:20:44Z   7236            52  English  \n",
       "1  2022-12-04T03:38:16Z   1103            19  English  \n",
       "2  2022-12-16T06:08:58Z    619            11  English  \n",
       "3  2023-04-22T16:25:18Z      5             0  English  \n",
       "4  2022-06-13T16:41:18Z     10             0  Tagalog  "
      ]
     },
     "execution_count": 13,
     "metadata": {},
     "output_type": "execute_result"
    }
   ],
   "source": [
    "import pycountry\n",
    "clean_df['Language'] = clean_df['Language'].apply(lambda x: pycountry.languages.get(alpha_2=x).name if(x) != 'Other' else 'Not-Detected')\n",
    "clean_df.head()"
   ]
  },
  {
   "attachments": {},
   "cell_type": "markdown",
   "metadata": {},
   "source": [
    "### Stats"
   ]
  },
  {
   "cell_type": "code",
   "execution_count": 14,
   "metadata": {},
   "outputs": [
    {
     "data": {
      "text/plain": [
       "Author          100\n",
       "Comment         100\n",
       "Timestamp       100\n",
       "Likes           100\n",
       "TotalReplies    100\n",
       "Language        100\n",
       "dtype: int64"
      ]
     },
     "execution_count": 14,
     "metadata": {},
     "output_type": "execute_result"
    }
   ],
   "source": [
    "clean_df.count()"
   ]
  },
  {
   "cell_type": "code",
   "execution_count": 15,
   "metadata": {},
   "outputs": [],
   "source": [
    "clean_df.drop(clean_df[clean_df['Language'] == 'Not-Detected'].index, inplace = True)"
   ]
  },
  {
   "cell_type": "code",
   "execution_count": 16,
   "metadata": {},
   "outputs": [
    {
     "data": {
      "text/plain": [
       "Author          100\n",
       "Comment         100\n",
       "Timestamp       100\n",
       "Likes           100\n",
       "TotalReplies    100\n",
       "Language        100\n",
       "dtype: int64"
      ]
     },
     "execution_count": 16,
     "metadata": {},
     "output_type": "execute_result"
    }
   ],
   "source": [
    "clean_df.count()"
   ]
  },
  {
   "attachments": {},
   "cell_type": "markdown",
   "metadata": {},
   "source": [
    "### TextBlob"
   ]
  },
  {
   "cell_type": "code",
   "execution_count": 17,
   "metadata": {},
   "outputs": [],
   "source": [
    "from nltk.sentiment.util import *\n",
    "from textblob import TextBlob\n",
    "from nltk import tokenize\n",
    "# New variable for TextBlob approach\n",
    "textBlob = clean_df.loc[clean_df['Language']=='English']\n",
    "\n",
    "def get_polarity(text):\n",
    "  return TextBlob(text).sentiment.polarity\n",
    "\n",
    "textBlob['TextBlob_Polarity'] = textBlob['Comment'].apply(get_polarity)"
   ]
  },
  {
   "attachments": {},
   "cell_type": "markdown",
   "metadata": {},
   "source": [
    "### Peerforming Sentiment Analysis on comments using TextBlob"
   ]
  },
  {
   "cell_type": "code",
   "execution_count": 18,
   "metadata": {},
   "outputs": [],
   "source": [
    "textBlob['TextBlob_Sentiment_Type']=''\n",
    "textBlob.loc[textBlob.TextBlob_Polarity>0,'TextBlob_Sentiment_Type']='POSITIVE'\n",
    "textBlob.loc[textBlob.TextBlob_Polarity==0,'TextBlob_Sentiment_Type']='NEUTRAL'\n",
    "textBlob.loc[textBlob.TextBlob_Polarity<0,'TextBlob_Sentiment_Type']='NEGATIVE'"
   ]
  },
  {
   "attachments": {},
   "cell_type": "markdown",
   "metadata": {},
   "source": [
    "### Stats of the sentiment analysis"
   ]
  },
  {
   "cell_type": "code",
   "execution_count": 19,
   "metadata": {},
   "outputs": [
    {
     "data": {
      "text/plain": [
       "POSITIVE    41\n",
       "NEUTRAL     15\n",
       "NEGATIVE     8\n",
       "Name: TextBlob_Sentiment_Type, dtype: int64"
      ]
     },
     "execution_count": 19,
     "metadata": {},
     "output_type": "execute_result"
    }
   ],
   "source": [
    "textBlob.TextBlob_Sentiment_Type.value_counts()"
   ]
  },
  {
   "attachments": {},
   "cell_type": "markdown",
   "metadata": {},
   "source": [
    "### Plotting bar graph of sentiments"
   ]
  },
  {
   "cell_type": "code",
   "execution_count": 20,
   "metadata": {},
   "outputs": [
    {
     "data": {
      "image/png": "[encoded data removed]",
      "text/plain": [
       "<Figure size 432x288 with 1 Axes>"
      ]
     },
     "metadata": {
      "needs_background": "light"
     },
     "output_type": "display_data"
    }
   ],
   "source": [
    "textBlob.TextBlob_Sentiment_Type.value_counts().plot(kind='bar',title=\"TextBlob Sentiment Analysis\")\n",
    "plt.savefig('./plots/TextBlob_Sentiment_Analysis.png', bbox_inches='tight')"
   ]
  },
  {
   "attachments": {},
   "cell_type": "markdown",
   "metadata": {},
   "source": [
    "### Vader"
   ]
  },
  {
   "cell_type": "code",
   "execution_count": 21,
   "metadata": {},
   "outputs": [
    {
     "name": "stderr",
     "output_type": "stream",
     "text": [
      "[nltk_data] Downloading package vader_lexicon to C:\\Users\\Ayush\n",
      "[nltk_data]     Abrol\\AppData\\Roaming\\nltk_data...\n",
      "[nltk_data]   Package vader_lexicon is already up-to-date!\n"
     ]
    }
   ],
   "source": [
    "import nltk\n",
    "nltk.download('vader_lexicon')\n",
    "from nltk.sentiment.vader import SentimentIntensityAnalyzer\n",
    "\n",
    "vader_df = clean_df.loc[clean_df['Language']=='English']\n",
    "\n",
    "sid = SentimentIntensityAnalyzer()"
   ]
  },
  {
   "cell_type": "code",
   "execution_count": 22,
   "metadata": {},
   "outputs": [
    {
     "data": {
      "text/html": [
       "<div>\n",
       "<style scoped>\n",
       "    .dataframe tbody tr th:only-of-type {\n",
       "        vertical-align: middle;\n",
       "    }\n",
       "\n",
       "    .dataframe tbody tr th {\n",
       "        vertical-align: top;\n",
       "    }\n",
       "\n",
       "    .dataframe thead th {\n",
       "        text-align: right;\n",
       "    }\n",
       "</style>\n",
       "<table border=\"1\" class=\"dataframe\">\n",
       "  <thead>\n",
       "    <tr style=\"text-align: right;\">\n",
       "      <th></th>\n",
       "      <th>Author</th>\n",
       "      <th>Comment</th>\n",
       "      <th>Timestamp</th>\n",
       "      <th>Likes</th>\n",
       "      <th>TotalReplies</th>\n",
       "      <th>Language</th>\n",
       "      <th>vader_scores</th>\n",
       "    </tr>\n",
       "  </thead>\n",
       "  <tbody>\n",
       "    <tr>\n",
       "      <th>0</th>\n",
       "      <td>Celestial</td>\n",
       "      <td>\"4 years no call\" hits different when it's act...</td>\n",
       "      <td>2020-12-18T22:20:44Z</td>\n",
       "      <td>7236</td>\n",
       "      <td>52</td>\n",
       "      <td>English</td>\n",
       "      <td>{'neg': 0.136, 'neu': 0.864, 'pos': 0.0, 'comp...</td>\n",
       "    </tr>\n",
       "    <tr>\n",
       "      <th>1</th>\n",
       "      <td>Luiz Henrique Rodrigues</td>\n",
       "      <td>music is hands down the closest thing we have ...</td>\n",
       "      <td>2022-12-04T03:38:16Z</td>\n",
       "      <td>1103</td>\n",
       "      <td>19</td>\n",
       "      <td>English</td>\n",
       "      <td>{'neg': 0.0, 'neu': 1.0, 'pos': 0.0, 'compound...</td>\n",
       "    </tr>\n",
       "    <tr>\n",
       "      <th>2</th>\n",
       "      <td>Human Being</td>\n",
       "      <td>the song doesn't hit hard when it has a good b...</td>\n",
       "      <td>2022-12-16T06:08:58Z</td>\n",
       "      <td>619</td>\n",
       "      <td>11</td>\n",
       "      <td>English</td>\n",
       "      <td>{'neg': 0.0, 'neu': 0.718, 'pos': 0.282, 'comp...</td>\n",
       "    </tr>\n",
       "    <tr>\n",
       "      <th>3</th>\n",
       "      <td>Kayla Gorrano</td>\n",
       "      <td>the day this video was released was the day my...</td>\n",
       "      <td>2023-04-22T16:25:18Z</td>\n",
       "      <td>5</td>\n",
       "      <td>0</td>\n",
       "      <td>English</td>\n",
       "      <td>{'neg': 0.046, 'neu': 0.706, 'pos': 0.248, 'co...</td>\n",
       "    </tr>\n",
       "    <tr>\n",
       "      <th>5</th>\n",
       "      <td>Arif Maulana</td>\n",
       "      <td>this song will never disappear, and become mem...</td>\n",
       "      <td>2023-04-26T18:50:04Z</td>\n",
       "      <td>3</td>\n",
       "      <td>0</td>\n",
       "      <td>English</td>\n",
       "      <td>{'neg': 0.0, 'neu': 0.808, 'pos': 0.192, 'comp...</td>\n",
       "    </tr>\n",
       "  </tbody>\n",
       "</table>\n",
       "</div>"
      ],
      "text/plain": [
       "                    Author                                            Comment  \\\n",
       "0                Celestial  \"4 years no call\" hits different when it's act...   \n",
       "1  Luiz Henrique Rodrigues  music is hands down the closest thing we have ...   \n",
       "2              Human Being  the song doesn't hit hard when it has a good b...   \n",
       "3            Kayla Gorrano  the day this video was released was the day my...   \n",
       "5             Arif Maulana  this song will never disappear, and become mem...   \n",
       "\n",
       "              Timestamp  Likes  TotalReplies Language  \\\n",
       "0  2020-12-18T22:20:44Z   7236            52  English   \n",
       "1  2022-12-04T03:38:16Z   1103            19  English   \n",
       "2  2022-12-16T06:08:58Z    619            11  English   \n",
       "3  2023-04-22T16:25:18Z      5             0  English   \n",
       "5  2023-04-26T18:50:04Z      3             0  English   \n",
       "\n",
       "                                        vader_scores  \n",
       "0  {'neg': 0.136, 'neu': 0.864, 'pos': 0.0, 'comp...  \n",
       "1  {'neg': 0.0, 'neu': 1.0, 'pos': 0.0, 'compound...  \n",
       "2  {'neg': 0.0, 'neu': 0.718, 'pos': 0.282, 'comp...  \n",
       "3  {'neg': 0.046, 'neu': 0.706, 'pos': 0.248, 'co...  \n",
       "5  {'neg': 0.0, 'neu': 0.808, 'pos': 0.192, 'comp...  "
      ]
     },
     "execution_count": 22,
     "metadata": {},
     "output_type": "execute_result"
    }
   ],
   "source": [
    "vader_df['vader_scores'] = vader_df['Comment'].apply(lambda Comment: sid.polarity_scores(Comment))\n",
    "vader_df.head()"
   ]
  },
  {
   "cell_type": "code",
   "execution_count": 23,
   "metadata": {},
   "outputs": [],
   "source": [
    "vader_df['compound'] = vader_df['vader_scores'].apply(lambda score_dict: score_dict['compound'])\n",
    "vader_df['vader_sentiment_type']=''\n",
    "vader_df.loc[vader_df.compound>0,'vader_sentiment_type']='POSITIVE'\n",
    "vader_df.loc[vader_df.compound==0,'vader_sentiment_type']='NEUTRAL'\n",
    "vader_df.loc[vader_df.compound<0,'vader_sentiment_type']='NEGATIVE'"
   ]
  },
  {
   "cell_type": "code",
   "execution_count": 24,
   "metadata": {},
   "outputs": [
    {
     "data": {
      "text/plain": [
       "POSITIVE    34\n",
       "NEUTRAL     18\n",
       "NEGATIVE    12\n",
       "Name: vader_sentiment_type, dtype: int64"
      ]
     },
     "execution_count": 24,
     "metadata": {},
     "output_type": "execute_result"
    }
   ],
   "source": [
    "vader_df.vader_sentiment_type.value_counts()"
   ]
  },
  {
   "cell_type": "code",
   "execution_count": 25,
   "metadata": {},
   "outputs": [
    {
     "data": {
      "text/plain": [
       "<AxesSubplot:title={'center':'sentiment analysis'}>"
      ]
     },
     "execution_count": 25,
     "metadata": {},
     "output_type": "execute_result"
    },
    {
     "data": {
      "image/png": "[encoded data removed]",
      "text/plain": [
       "<Figure size 432x288 with 1 Axes>"
      ]
     },
     "metadata": {
      "needs_background": "light"
     },
     "output_type": "display_data"
    }
   ],
   "source": [
    "vader_df.vader_sentiment_type.value_counts().plot(kind='bar',title=\"sentiment analysis\")"
   ]
  },
  {
   "cell_type": "code",
   "execution_count": 26,
   "metadata": {},
   "outputs": [
    {
     "data": {
      "text/html": [
       "<div>\n",
       "<style scoped>\n",
       "    .dataframe tbody tr th:only-of-type {\n",
       "        vertical-align: middle;\n",
       "    }\n",
       "\n",
       "    .dataframe tbody tr th {\n",
       "        vertical-align: top;\n",
       "    }\n",
       "\n",
       "    .dataframe thead th {\n",
       "        text-align: right;\n",
       "    }\n",
       "</style>\n",
       "<table border=\"1\" class=\"dataframe\">\n",
       "  <thead>\n",
       "    <tr style=\"text-align: right;\">\n",
       "      <th></th>\n",
       "      <th>Author</th>\n",
       "      <th>Comment</th>\n",
       "      <th>Timestamp</th>\n",
       "      <th>Likes</th>\n",
       "      <th>TotalReplies</th>\n",
       "      <th>Language</th>\n",
       "      <th>vader_scores</th>\n",
       "      <th>compound</th>\n",
       "      <th>vader_sentiment_type</th>\n",
       "    </tr>\n",
       "  </thead>\n",
       "  <tbody>\n",
       "    <tr>\n",
       "      <th>0</th>\n",
       "      <td>Celestial</td>\n",
       "      <td>\"4 years no call\" hits different when it's act...</td>\n",
       "      <td>2020-12-18T22:20:44Z</td>\n",
       "      <td>7236</td>\n",
       "      <td>52</td>\n",
       "      <td>English</td>\n",
       "      <td>{'neg': 0.136, 'neu': 0.864, 'pos': 0.0, 'comp...</td>\n",
       "      <td>-0.2960</td>\n",
       "      <td>NEGATIVE</td>\n",
       "    </tr>\n",
       "    <tr>\n",
       "      <th>1</th>\n",
       "      <td>Luiz Henrique Rodrigues</td>\n",
       "      <td>music is hands down the closest thing we have ...</td>\n",
       "      <td>2022-12-04T03:38:16Z</td>\n",
       "      <td>1103</td>\n",
       "      <td>19</td>\n",
       "      <td>English</td>\n",
       "      <td>{'neg': 0.0, 'neu': 1.0, 'pos': 0.0, 'compound...</td>\n",
       "      <td>0.0000</td>\n",
       "      <td>NEUTRAL</td>\n",
       "    </tr>\n",
       "    <tr>\n",
       "      <th>2</th>\n",
       "      <td>Human Being</td>\n",
       "      <td>the song doesn't hit hard when it has a good b...</td>\n",
       "      <td>2022-12-16T06:08:58Z</td>\n",
       "      <td>619</td>\n",
       "      <td>11</td>\n",
       "      <td>English</td>\n",
       "      <td>{'neg': 0.0, 'neu': 0.718, 'pos': 0.282, 'comp...</td>\n",
       "      <td>0.5411</td>\n",
       "      <td>POSITIVE</td>\n",
       "    </tr>\n",
       "    <tr>\n",
       "      <th>3</th>\n",
       "      <td>Kayla Gorrano</td>\n",
       "      <td>the day this video was released was the day my...</td>\n",
       "      <td>2023-04-22T16:25:18Z</td>\n",
       "      <td>5</td>\n",
       "      <td>0</td>\n",
       "      <td>English</td>\n",
       "      <td>{'neg': 0.046, 'neu': 0.706, 'pos': 0.248, 'co...</td>\n",
       "      <td>0.9367</td>\n",
       "      <td>POSITIVE</td>\n",
       "    </tr>\n",
       "    <tr>\n",
       "      <th>5</th>\n",
       "      <td>Arif Maulana</td>\n",
       "      <td>this song will never disappear, and become mem...</td>\n",
       "      <td>2023-04-26T18:50:04Z</td>\n",
       "      <td>3</td>\n",
       "      <td>0</td>\n",
       "      <td>English</td>\n",
       "      <td>{'neg': 0.0, 'neu': 0.808, 'pos': 0.192, 'comp...</td>\n",
       "      <td>0.1695</td>\n",
       "      <td>POSITIVE</td>\n",
       "    </tr>\n",
       "    <tr>\n",
       "      <th>6</th>\n",
       "      <td>RJ</td>\n",
       "      <td>2016: \"we ain't ever gettin older\" \\n4 years l...</td>\n",
       "      <td>2021-02-07T23:42:17Z</td>\n",
       "      <td>1675</td>\n",
       "      <td>55</td>\n",
       "      <td>English</td>\n",
       "      <td>{'neg': 0.0, 'neu': 1.0, 'pos': 0.0, 'compound...</td>\n",
       "      <td>0.0000</td>\n",
       "      <td>NEUTRAL</td>\n",
       "    </tr>\n",
       "    <tr>\n",
       "      <th>8</th>\n",
       "      <td>Suhas</td>\n",
       "      <td>take me back to 2013-2017.. those years where ...</td>\n",
       "      <td>2023-02-09T17:19:36Z</td>\n",
       "      <td>227</td>\n",
       "      <td>9</td>\n",
       "      <td>English</td>\n",
       "      <td>{'neg': 0.0, 'neu': 0.756, 'pos': 0.244, 'comp...</td>\n",
       "      <td>0.6369</td>\n",
       "      <td>POSITIVE</td>\n",
       "    </tr>\n",
       "    <tr>\n",
       "      <th>12</th>\n",
       "      <td>- tyara elisya -</td>\n",
       "      <td>they had more chemistry than my science class.</td>\n",
       "      <td>2019-12-19T13:46:18Z</td>\n",
       "      <td>5944</td>\n",
       "      <td>40</td>\n",
       "      <td>English</td>\n",
       "      <td>{'neg': 0.0, 'neu': 1.0, 'pos': 0.0, 'compound...</td>\n",
       "      <td>0.0000</td>\n",
       "      <td>NEUTRAL</td>\n",
       "    </tr>\n",
       "    <tr>\n",
       "      <th>13</th>\n",
       "      <td>Ying EDM</td>\n",
       "      <td>can't believe it's been years. sitting alone i...</td>\n",
       "      <td>2022-09-20T00:53:30Z</td>\n",
       "      <td>131</td>\n",
       "      <td>3</td>\n",
       "      <td>English</td>\n",
       "      <td>{'neg': 0.186, 'neu': 0.814, 'pos': 0.0, 'comp...</td>\n",
       "      <td>-0.5837</td>\n",
       "      <td>NEGATIVE</td>\n",
       "    </tr>\n",
       "    <tr>\n",
       "      <th>15</th>\n",
       "      <td>Khadija Ilyas</td>\n",
       "      <td>this song is so nostalgic, reminds me of simpl...</td>\n",
       "      <td>2023-03-19T05:36:16Z</td>\n",
       "      <td>74</td>\n",
       "      <td>4</td>\n",
       "      <td>English</td>\n",
       "      <td>{'neg': 0.0, 'neu': 0.793, 'pos': 0.207, 'comp...</td>\n",
       "      <td>0.8730</td>\n",
       "      <td>POSITIVE</td>\n",
       "    </tr>\n",
       "    <tr>\n",
       "      <th>20</th>\n",
       "      <td>Prajwal</td>\n",
       "      <td>how tf it didnt cross 500m until now ?!</td>\n",
       "      <td>2023-01-20T17:44:52Z</td>\n",
       "      <td>1</td>\n",
       "      <td>0</td>\n",
       "      <td>English</td>\n",
       "      <td>{'neg': 0.0, 'neu': 1.0, 'pos': 0.0, 'compound...</td>\n",
       "      <td>0.0000</td>\n",
       "      <td>NEUTRAL</td>\n",
       "    </tr>\n",
       "    <tr>\n",
       "      <th>21</th>\n",
       "      <td>ABHISHEK VADGAMA</td>\n",
       "      <td>hearing in 2023 and this is still master piece...</td>\n",
       "      <td>2023-03-04T12:34:09Z</td>\n",
       "      <td>39</td>\n",
       "      <td>1</td>\n",
       "      <td>English</td>\n",
       "      <td>{'neg': 0.0, 'neu': 1.0, 'pos': 0.0, 'compound...</td>\n",
       "      <td>0.0000</td>\n",
       "      <td>NEUTRAL</td>\n",
       "    </tr>\n",
       "    <tr>\n",
       "      <th>29</th>\n",
       "      <td>Focus</td>\n",
       "      <td>wait its been 3 years and i just realized this...</td>\n",
       "      <td>2019-08-29T15:25:43Z</td>\n",
       "      <td>3337</td>\n",
       "      <td>64</td>\n",
       "      <td>English</td>\n",
       "      <td>{'neg': 0.203, 'neu': 0.797, 'pos': 0.0, 'comp...</td>\n",
       "      <td>-0.4215</td>\n",
       "      <td>NEGATIVE</td>\n",
       "    </tr>\n",
       "    <tr>\n",
       "      <th>35</th>\n",
       "      <td>Lauren Daniels</td>\n",
       "      <td>this song played at my sisters funeral. she wo...</td>\n",
       "      <td>2021-01-29T21:24:43Z</td>\n",
       "      <td>2734</td>\n",
       "      <td>87</td>\n",
       "      <td>English</td>\n",
       "      <td>{'neg': 0.151, 'neu': 0.759, 'pos': 0.09, 'com...</td>\n",
       "      <td>-0.5642</td>\n",
       "      <td>NEGATIVE</td>\n",
       "    </tr>\n",
       "    <tr>\n",
       "      <th>40</th>\n",
       "      <td>Lilla Eniko Kardalus</td>\n",
       "      <td>ah god, this song. this one always reminds me ...</td>\n",
       "      <td>2022-10-15T00:13:58Z</td>\n",
       "      <td>1</td>\n",
       "      <td>0</td>\n",
       "      <td>English</td>\n",
       "      <td>{'neg': 0.054, 'neu': 0.923, 'pos': 0.023, 'co...</td>\n",
       "      <td>-0.2624</td>\n",
       "      <td>NEGATIVE</td>\n",
       "    </tr>\n",
       "  </tbody>\n",
       "</table>\n",
       "</div>"
      ],
      "text/plain": [
       "                     Author  \\\n",
       "0                 Celestial   \n",
       "1   Luiz Henrique Rodrigues   \n",
       "2               Human Being   \n",
       "3             Kayla Gorrano   \n",
       "5              Arif Maulana   \n",
       "6                        RJ   \n",
       "8                     Suhas   \n",
       "12         - tyara elisya -   \n",
       "13                 Ying EDM   \n",
       "15            Khadija Ilyas   \n",
       "20                  Prajwal   \n",
       "21         ABHISHEK VADGAMA   \n",
       "29                    Focus   \n",
       "35           Lauren Daniels   \n",
       "40     Lilla Eniko Kardalus   \n",
       "\n",
       "                                              Comment             Timestamp  \\\n",
       "0   \"4 years no call\" hits different when it's act...  2020-12-18T22:20:44Z   \n",
       "1   music is hands down the closest thing we have ...  2022-12-04T03:38:16Z   \n",
       "2   the song doesn't hit hard when it has a good b...  2022-12-16T06:08:58Z   \n",
       "3   the day this video was released was the day my...  2023-04-22T16:25:18Z   \n",
       "5   this song will never disappear, and become mem...  2023-04-26T18:50:04Z   \n",
       "6   2016: \"we ain't ever gettin older\" \\n4 years l...  2021-02-07T23:42:17Z   \n",
       "8   take me back to 2013-2017.. those years where ...  2023-02-09T17:19:36Z   \n",
       "12     they had more chemistry than my science class.  2019-12-19T13:46:18Z   \n",
       "13  can't believe it's been years. sitting alone i...  2022-09-20T00:53:30Z   \n",
       "15  this song is so nostalgic, reminds me of simpl...  2023-03-19T05:36:16Z   \n",
       "20            how tf it didnt cross 500m until now ?!  2023-01-20T17:44:52Z   \n",
       "21  hearing in 2023 and this is still master piece...  2023-03-04T12:34:09Z   \n",
       "29  wait its been 3 years and i just realized this...  2019-08-29T15:25:43Z   \n",
       "35  this song played at my sisters funeral. she wo...  2021-01-29T21:24:43Z   \n",
       "40  ah god, this song. this one always reminds me ...  2022-10-15T00:13:58Z   \n",
       "\n",
       "    Likes  TotalReplies Language  \\\n",
       "0    7236            52  English   \n",
       "1    1103            19  English   \n",
       "2     619            11  English   \n",
       "3       5             0  English   \n",
       "5       3             0  English   \n",
       "6    1675            55  English   \n",
       "8     227             9  English   \n",
       "12   5944            40  English   \n",
       "13    131             3  English   \n",
       "15     74             4  English   \n",
       "20      1             0  English   \n",
       "21     39             1  English   \n",
       "29   3337            64  English   \n",
       "35   2734            87  English   \n",
       "40      1             0  English   \n",
       "\n",
       "                                         vader_scores  compound  \\\n",
       "0   {'neg': 0.136, 'neu': 0.864, 'pos': 0.0, 'comp...   -0.2960   \n",
       "1   {'neg': 0.0, 'neu': 1.0, 'pos': 0.0, 'compound...    0.0000   \n",
       "2   {'neg': 0.0, 'neu': 0.718, 'pos': 0.282, 'comp...    0.5411   \n",
       "3   {'neg': 0.046, 'neu': 0.706, 'pos': 0.248, 'co...    0.9367   \n",
       "5   {'neg': 0.0, 'neu': 0.808, 'pos': 0.192, 'comp...    0.1695   \n",
       "6   {'neg': 0.0, 'neu': 1.0, 'pos': 0.0, 'compound...    0.0000   \n",
       "8   {'neg': 0.0, 'neu': 0.756, 'pos': 0.244, 'comp...    0.6369   \n",
       "12  {'neg': 0.0, 'neu': 1.0, 'pos': 0.0, 'compound...    0.0000   \n",
       "13  {'neg': 0.186, 'neu': 0.814, 'pos': 0.0, 'comp...   -0.5837   \n",
       "15  {'neg': 0.0, 'neu': 0.793, 'pos': 0.207, 'comp...    0.8730   \n",
       "20  {'neg': 0.0, 'neu': 1.0, 'pos': 0.0, 'compound...    0.0000   \n",
       "21  {'neg': 0.0, 'neu': 1.0, 'pos': 0.0, 'compound...    0.0000   \n",
       "29  {'neg': 0.203, 'neu': 0.797, 'pos': 0.0, 'comp...   -0.4215   \n",
       "35  {'neg': 0.151, 'neu': 0.759, 'pos': 0.09, 'com...   -0.5642   \n",
       "40  {'neg': 0.054, 'neu': 0.923, 'pos': 0.023, 'co...   -0.2624   \n",
       "\n",
       "   vader_sentiment_type  \n",
       "0              NEGATIVE  \n",
       "1               NEUTRAL  \n",
       "2              POSITIVE  \n",
       "3              POSITIVE  \n",
       "5              POSITIVE  \n",
       "6               NEUTRAL  \n",
       "8              POSITIVE  \n",
       "12              NEUTRAL  \n",
       "13             NEGATIVE  \n",
       "15             POSITIVE  \n",
       "20              NEUTRAL  \n",
       "21              NEUTRAL  \n",
       "29             NEGATIVE  \n",
       "35             NEGATIVE  \n",
       "40             NEGATIVE  "
      ]
     },
     "execution_count": 26,
     "metadata": {},
     "output_type": "execute_result"
    }
   ],
   "source": [
    "vader_df.groupby(['vader_sentiment_type']).head()"
   ]
  },
  {
   "attachments": {},
   "cell_type": "markdown",
   "metadata": {},
   "source": [
    "After the initial analysis and visual inspection. There are more positive and negative counts using TextBlob than Vader.\n",
    "\n",
    "I think TextBlob is closer to the sentiment outcomes that I expect. Hence picking TextBlob for Sentiment analysis."
   ]
  },
  {
   "attachments": {},
   "cell_type": "markdown",
   "metadata": {},
   "source": [
    "## Dashboard"
   ]
  },
  {
   "attachments": {},
   "cell_type": "markdown",
   "metadata": {},
   "source": [
    "A few insights that we draw:\n",
    "\n",
    "    1. Top 10 liked comments\n",
    "    2. Top 10 replies comments\n",
    "    3. Top languages commented in\n",
    "    4. Sentiment analysis on the English comments\n",
    "    5. Metrics: Likes and subscribes\n",
    "    6. Time series chart showing subs gained and Viewer hits"
   ]
  },
  {
   "cell_type": "code",
   "execution_count": 27,
   "metadata": {},
   "outputs": [],
   "source": [
    "import os\n",
    "\n",
    "import google_auth_oauthlib.flow\n",
    "import googleapiclient.discovery\n",
    "import googleapiclient.errors"
   ]
  },
  {
   "cell_type": "code",
   "execution_count": 28,
   "metadata": {},
   "outputs": [],
   "source": [
    "api_service_name = \"youtube\"\n",
    "api_version = \"v3\"\n",
    "client_secrets_file = \"client_secret.json\""
   ]
  },
  {
   "cell_type": "code",
   "execution_count": null,
   "metadata": {},
   "outputs": [],
   "source": [
    "flow = google_auth_oauthlib.flow.InstalledAppFlow.from_client_secrets_file(client_secrets_file, scopes=[\"https://www.googleapis.com/auth/youtube.force-ssl\"])\n",
    "credentials = flow.run_console()\n",
    "youtube = googleapiclient.discovery.build(api_service_name, \n",
    "                                          api_version, \n",
    "                                          credentials=credentials)\n",
    "\n",
    "request = youtube.videos().list(\n",
    "        part=\"snippet,contentDetails,statistics\",\n",
    "        id=\"dQw4w9WgXcQ\")\n",
    "response = request.execute()\n",
    "\n",
    "print(response)"
   ]
  },
  {
   "attachments": {},
   "cell_type": "markdown",
   "metadata": {},
   "source": [
    "### Functions for the dashboard"
   ]
  },
  {
   "cell_type": "code",
   "execution_count": 29,
   "metadata": {},
   "outputs": [],
   "source": [
    "url = \"https://www.youtube.com/watch?v=6GUm5g8SG4o\""
   ]
  },
  {
   "cell_type": "code",
   "execution_count": 30,
   "metadata": {},
   "outputs": [
    {
     "data": {
      "text/plain": [
       "'6GUm5g8SG4o'"
      ]
     },
     "execution_count": 30,
     "metadata": {},
     "output_type": "execute_result"
    }
   ],
   "source": [
    "video_id = url.split('?v=')[-1]\n",
    "video_id"
   ]
  },
  {
   "cell_type": "code",
   "execution_count": 31,
   "metadata": {},
   "outputs": [],
   "source": [
    "def get_polarity(text):\n",
    "    return TextBlob(text).sentiment.polarity"
   ]
  },
  {
   "cell_type": "code",
   "execution_count": 32,
   "metadata": {},
   "outputs": [],
   "source": [
    "def get_sentiment(polarity):\n",
    "   if polarity > 0:\n",
    "    return 'POSITIVE'\n",
    "   elif polarity<0:\n",
    "    return 'NEGATIVE' \n",
    "   else:\n",
    "     return 'NEUTRAL'"
   ]
  },
  {
   "cell_type": "code",
   "execution_count": 33,
   "metadata": {},
   "outputs": [],
   "source": [
    "def parse_video(url) -> pd.DataFrame:\n",
    "    \"\"\"\n",
    "    Args:\n",
    "      url: URL Of the video to be parsed\n",
    "    Returns:\n",
    "      Dataframe with the processed and cleaned values\n",
    "    \"\"\"\n",
    "    api_key = ''\n",
    "    # Get the video_id from the url\n",
    "    video_id = url.split('?v=')[-1]\n",
    "\n",
    "    # creating youtube resource object\n",
    "    youtube = build('youtube', 'v3',\n",
    "    developerKey=api_key)\n",
    "\n",
    "    # retrieve youtube video results\n",
    "    video_response=youtube.commentThreads().list(\n",
    "    part='snippet',\n",
    "    maxResults=1000,\n",
    "    order='relevance',\n",
    "    videoId=video_id\n",
    "    ).execute()\n",
    "\n",
    "    # empty list for storing reply\n",
    "    comments = []\n",
    "\n",
    "    # extracting required info from each result object\n",
    "    for item in video_response['items']:\n",
    "\n",
    "        # Extracting comments\n",
    "        comment = item['snippet']['topLevelComment']['snippet']['textOriginal']\n",
    "        # Extracting author\n",
    "        author = item['snippet']['topLevelComment']['snippet']['authorDisplayName']\n",
    "        # Extracting published time\n",
    "        published_at = item['snippet']['topLevelComment']['snippet']['publishedAt']\n",
    "        # Extracting likes\n",
    "        like_count = item['snippet']['topLevelComment']['snippet']['likeCount']\n",
    "        # Extracting total replies to the comment\n",
    "        reply_count = item['snippet']['totalReplyCount']\n",
    "\n",
    "        comments.append([author, comment, published_at, like_count, reply_count])\n",
    "\n",
    "    df = pd.DataFrame({'Author': [i[0] for i in comments], \n",
    "                      'Comment': [i[1] for i in comments], \n",
    "                      'Timestamp': [i[2] for i in comments],\n",
    "                    'Likes': [i[3] for i in comments], \n",
    "                    'TotalReplies': [i[4] for i in comments]})\n",
    "    \n",
    "    # Remove extra spaces and make them lower case. Replace special emojis\n",
    "    df['Comment'] = df['Comment'].apply(lambda x: x.strip().lower().replace('xd','').replace('<3',''))\n",
    "\n",
    "    # Clean text from line breaks, unicodes, emojis and punctuations\n",
    "    df['Comment'] = df['Comment'].apply(lambda x: clean(x, clean_all=True, lowercase=True, punct=False))\n",
    "\n",
    "    # Remove emojis\n",
    "    df['Comment'] = df['Comment'].apply(lambda x: demoji.replace(x, ''))\n",
    "\n",
    "    # Remove quotes and double quotes\n",
    "    df['Comment'] = df['Comment'].apply(lambda x: x.replace('\"','').replace(\"'\",''))\n",
    "\n",
    "    # Remove non-ascii characters\n",
    "    df['Comment'] = df['Comment'].apply(lambda x: unidecode.unidecode(x))\n",
    "\n",
    "    # Detect the languages of the comments\n",
    "    df['Language'] = df['Comment'].apply(lambda x: detect(x))\n",
    "\n",
    "    # Convert ISO country codes to Languages\n",
    "    df['Language'] = df['Language'].apply(lambda x: pycountry.languages.get(alpha_2=x).name)\n",
    "\n",
    "    # Determining the polarity based on english comments\n",
    "    df['TextBlob_Polarity'] = df[['Comment','Language']].apply(lambda x: get_polarity(x['Comment']) if x['Language'] == 'English' else '', axis=1)\n",
    "\n",
    "    df['TextBlob_Sentiment_Type'] = df['TextBlob_Polarity'].apply(lambda x: get_sentiment(x) if type(x)==float else '')\n",
    "\n",
    "    return df"
   ]
  },
  {
   "cell_type": "code",
   "execution_count": 34,
   "metadata": {},
   "outputs": [
    {
     "name": "stderr",
     "output_type": "stream",
     "text": [
      "2023-04-28 21:59:11.984 INFO    googleapiclient.discovery_cache: file_cache is only supported with oauth2client<4.0.0\n"
     ]
    },
    {
     "data": {
      "text/html": [
       "<div>\n",
       "<style scoped>\n",
       "    .dataframe tbody tr th:only-of-type {\n",
       "        vertical-align: middle;\n",
       "    }\n",
       "\n",
       "    .dataframe tbody tr th {\n",
       "        vertical-align: top;\n",
       "    }\n",
       "\n",
       "    .dataframe thead th {\n",
       "        text-align: right;\n",
       "    }\n",
       "</style>\n",
       "<table border=\"1\" class=\"dataframe\">\n",
       "  <thead>\n",
       "    <tr style=\"text-align: right;\">\n",
       "      <th></th>\n",
       "      <th>Author</th>\n",
       "      <th>Comment</th>\n",
       "      <th>Timestamp</th>\n",
       "      <th>Likes</th>\n",
       "      <th>TotalReplies</th>\n",
       "      <th>Language</th>\n",
       "      <th>TextBlob_Polarity</th>\n",
       "      <th>TextBlob_Sentiment_Type</th>\n",
       "    </tr>\n",
       "  </thead>\n",
       "  <tbody>\n",
       "    <tr>\n",
       "      <th>0</th>\n",
       "      <td>Sebastiano</td>\n",
       "      <td>honestly i miss the days where songs like this...</td>\n",
       "      <td>2021-03-31T16:47:22Z</td>\n",
       "      <td>12172</td>\n",
       "      <td>189</td>\n",
       "      <td>English</td>\n",
       "      <td>0.45</td>\n",
       "      <td>POSITIVE</td>\n",
       "    </tr>\n",
       "    <tr>\n",
       "      <th>1</th>\n",
       "      <td>Samriddhi</td>\n",
       "      <td>almost 8years and this song is still a masterp...</td>\n",
       "      <td>2023-04-26T13:39:42Z</td>\n",
       "      <td>27</td>\n",
       "      <td>1</td>\n",
       "      <td>English</td>\n",
       "      <td>0.0</td>\n",
       "      <td>NEUTRAL</td>\n",
       "    </tr>\n",
       "    <tr>\n",
       "      <th>2</th>\n",
       "      <td>Michael Smith</td>\n",
       "      <td>this song never gets old.</td>\n",
       "      <td>2023-01-05T14:43:05Z</td>\n",
       "      <td>1238</td>\n",
       "      <td>9</td>\n",
       "      <td>English</td>\n",
       "      <td>0.1</td>\n",
       "      <td>POSITIVE</td>\n",
       "    </tr>\n",
       "    <tr>\n",
       "      <th>3</th>\n",
       "      <td>Shoaib khan</td>\n",
       "      <td>lyrics\\nif i got locked away\\nand we lost it a...</td>\n",
       "      <td>2023-03-02T23:00:34Z</td>\n",
       "      <td>470</td>\n",
       "      <td>9</td>\n",
       "      <td>English</td>\n",
       "      <td>0.303175</td>\n",
       "      <td>POSITIVE</td>\n",
       "    </tr>\n",
       "    <tr>\n",
       "      <th>4</th>\n",
       "      <td>Chisom Leonard</td>\n",
       "      <td>this is 2023 and this piece of magic is still ...</td>\n",
       "      <td>2023-01-14T19:35:55Z</td>\n",
       "      <td>938</td>\n",
       "      <td>6</td>\n",
       "      <td>English</td>\n",
       "      <td>0.75</td>\n",
       "      <td>POSITIVE</td>\n",
       "    </tr>\n",
       "  </tbody>\n",
       "</table>\n",
       "</div>"
      ],
      "text/plain": [
       "           Author                                            Comment  \\\n",
       "0      Sebastiano  honestly i miss the days where songs like this...   \n",
       "1       Samriddhi  almost 8years and this song is still a masterp...   \n",
       "2   Michael Smith                          this song never gets old.   \n",
       "3     Shoaib khan  lyrics\\nif i got locked away\\nand we lost it a...   \n",
       "4  Chisom Leonard  this is 2023 and this piece of magic is still ...   \n",
       "\n",
       "              Timestamp  Likes  TotalReplies Language TextBlob_Polarity  \\\n",
       "0  2021-03-31T16:47:22Z  12172           189  English              0.45   \n",
       "1  2023-04-26T13:39:42Z     27             1  English               0.0   \n",
       "2  2023-01-05T14:43:05Z   1238             9  English               0.1   \n",
       "3  2023-03-02T23:00:34Z    470             9  English          0.303175   \n",
       "4  2023-01-14T19:35:55Z    938             6  English              0.75   \n",
       "\n",
       "  TextBlob_Sentiment_Type  \n",
       "0                POSITIVE  \n",
       "1                 NEUTRAL  \n",
       "2                POSITIVE  \n",
       "3                POSITIVE  \n",
       "4                POSITIVE  "
      ]
     },
     "execution_count": 34,
     "metadata": {},
     "output_type": "execute_result"
    }
   ],
   "source": [
    "df3 = parse_video('https://www.youtube.com/watch?v=6GUm5g8SG4o')\n",
    "df3.head()"
   ]
  },
  {
   "cell_type": "code",
   "execution_count": null,
   "metadata": {},
   "outputs": [],
   "source": []
  }
 ],
 "metadata": {
  "kernelspec": {
   "display_name": "Python 3",
   "language": "python",
   "name": "python3"
  },
  "language_info": {
   "codemirror_mode": {
    "name": "ipython",
    "version": 3
   },
   "file_extension": ".py",
   "mimetype": "text/x-python",
   "name": "python",
   "nbconvert_exporter": "python",
   "pygments_lexer": "ipython3",
   "version": "3.7.8"
  },
  "orig_nbformat": 4
 },
 "nbformat": 4,
 "nbformat_minor": 2
}
